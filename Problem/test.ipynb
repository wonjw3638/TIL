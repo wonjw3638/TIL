{
 "cells": [
  {
   "cell_type": "code",
   "execution_count": 3,
   "metadata": {},
   "outputs": [
    {
     "name": "stdout",
     "output_type": "stream",
     "text": [
      "[[1, 10, 1101, 1, 1, 1], [1, 10, 11, 1, 1010], [1, 101, 101010, 10]]\n"
     ]
    }
   ],
   "source": [
    "N = int(input())\n",
    "blue = 0\n",
    "white = 0\n",
    "\n",
    "confetti = []  #색종이\n",
    "\n",
    "for i in range(N):\n",
    "    color = list(map(int, input().split()))\n",
    "    confetti.append(color)\n",
    "\n",
    "print(confetti)\n",
    "\n",
    "# 아직 푸는 중\n"
   ]
  }
 ],
 "metadata": {
  "kernelspec": {
   "display_name": "Python 3.9.13 64-bit",
   "language": "python",
   "name": "python3"
  },
  "language_info": {
   "codemirror_mode": {
    "name": "ipython",
    "version": 3
   },
   "file_extension": ".py",
   "mimetype": "text/x-python",
   "name": "python",
   "nbconvert_exporter": "python",
   "pygments_lexer": "ipython3",
   "version": "3.9.13"
  },
  "orig_nbformat": 4,
  "vscode": {
   "interpreter": {
    "hash": "3d3579b64ed644892bc49d0da2d1890659408e00eebf25200bc250e1696a02dd"
   }
  }
 },
 "nbformat": 4,
 "nbformat_minor": 2
}
